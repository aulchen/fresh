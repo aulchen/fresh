{
 "cells": [
  {
   "cell_type": "code",
   "execution_count": 3,
   "id": "cc458a9c",
   "metadata": {},
   "outputs": [],
   "source": [
    "import re\n",
    "import os\n",
    "import torch\n",
    "import torch.nn as nn\n",
    "import torch.optim as optim\n",
    "import pandas as pd\n",
    "import numpy as np\n",
    "from heapq import *\n",
    "#from BertExtractors import *\n",
    "from transformers import BertTokenizer\n",
    "from transformers import AutoTokenizer, AutoModelForSequenceClassification\n",
    "from torchtext.datasets import IMDB\n",
    "from torch.utils.data import DataLoader, TensorDataset\n",
    "from sklearn.model_selection import train_test_split\n",
    "from sklearn.linear_model import LogisticRegression\n",
    "from sklearn.metrics import *\n",
    "\n",
    "%load_ext autoreload\n",
    "%autoreload 2"
   ]
  },
  {
   "cell_type": "code",
   "execution_count": 6,
   "id": "36c2ac9d",
   "metadata": {},
   "outputs": [],
   "source": [
    "df = pd.read_csv(\"../data/IMDBDataset_CleanHTML.csv\")\n",
    "train = df.iloc[0:2000,]\n",
    "test = df.iloc[25000:26000,]"
   ]
  },
  {
   "cell_type": "code",
   "execution_count": 8,
   "id": "985b3aaf",
   "metadata": {},
   "outputs": [],
   "source": [
    "def assess_model(true, pred, prob):\n",
    "    print(f\"Accuracy: {accuracy_score(true, pred)}\")\n",
    "    print(f\"Precision: {precision_score(true, pred)}\")\n",
    "    print(f\"Recall: {recall_score(true, pred)}\")\n",
    "    print(f\"ROC AUC: {roc_auc_score(true, prob)}\")"
   ]
  },
  {
   "cell_type": "markdown",
   "id": "025b95fd",
   "metadata": {},
   "source": [
    "# Contiguous 150"
   ]
  },
  {
   "cell_type": "code",
   "execution_count": 4,
   "id": "9d39643e",
   "metadata": {},
   "outputs": [],
   "source": [
    "#Dataframes containing the extracted features from the contiguous 150 extractor\n",
    "contiguous150_train = pd.read_csv(\"../data/contiguous150_train_0000-2000.csv\")\n",
    "contiguous150_test = pd.read_csv(\"../data/contiguous150_test_1000.csv\")"
   ]
  },
  {
   "cell_type": "code",
   "execution_count": 5,
   "id": "c9ba2a4e",
   "metadata": {},
   "outputs": [
    {
     "data": {
      "text/html": [
       "<style>#sk-container-id-1 {color: black;}#sk-container-id-1 pre{padding: 0;}#sk-container-id-1 div.sk-toggleable {background-color: white;}#sk-container-id-1 label.sk-toggleable__label {cursor: pointer;display: block;width: 100%;margin-bottom: 0;padding: 0.3em;box-sizing: border-box;text-align: center;}#sk-container-id-1 label.sk-toggleable__label-arrow:before {content: \"▸\";float: left;margin-right: 0.25em;color: #696969;}#sk-container-id-1 label.sk-toggleable__label-arrow:hover:before {color: black;}#sk-container-id-1 div.sk-estimator:hover label.sk-toggleable__label-arrow:before {color: black;}#sk-container-id-1 div.sk-toggleable__content {max-height: 0;max-width: 0;overflow: hidden;text-align: left;background-color: #f0f8ff;}#sk-container-id-1 div.sk-toggleable__content pre {margin: 0.2em;color: black;border-radius: 0.25em;background-color: #f0f8ff;}#sk-container-id-1 input.sk-toggleable__control:checked~div.sk-toggleable__content {max-height: 200px;max-width: 100%;overflow: auto;}#sk-container-id-1 input.sk-toggleable__control:checked~label.sk-toggleable__label-arrow:before {content: \"▾\";}#sk-container-id-1 div.sk-estimator input.sk-toggleable__control:checked~label.sk-toggleable__label {background-color: #d4ebff;}#sk-container-id-1 div.sk-label input.sk-toggleable__control:checked~label.sk-toggleable__label {background-color: #d4ebff;}#sk-container-id-1 input.sk-hidden--visually {border: 0;clip: rect(1px 1px 1px 1px);clip: rect(1px, 1px, 1px, 1px);height: 1px;margin: -1px;overflow: hidden;padding: 0;position: absolute;width: 1px;}#sk-container-id-1 div.sk-estimator {font-family: monospace;background-color: #f0f8ff;border: 1px dotted black;border-radius: 0.25em;box-sizing: border-box;margin-bottom: 0.5em;}#sk-container-id-1 div.sk-estimator:hover {background-color: #d4ebff;}#sk-container-id-1 div.sk-parallel-item::after {content: \"\";width: 100%;border-bottom: 1px solid gray;flex-grow: 1;}#sk-container-id-1 div.sk-label:hover label.sk-toggleable__label {background-color: #d4ebff;}#sk-container-id-1 div.sk-serial::before {content: \"\";position: absolute;border-left: 1px solid gray;box-sizing: border-box;top: 0;bottom: 0;left: 50%;z-index: 0;}#sk-container-id-1 div.sk-serial {display: flex;flex-direction: column;align-items: center;background-color: white;padding-right: 0.2em;padding-left: 0.2em;position: relative;}#sk-container-id-1 div.sk-item {position: relative;z-index: 1;}#sk-container-id-1 div.sk-parallel {display: flex;align-items: stretch;justify-content: center;background-color: white;position: relative;}#sk-container-id-1 div.sk-item::before, #sk-container-id-1 div.sk-parallel-item::before {content: \"\";position: absolute;border-left: 1px solid gray;box-sizing: border-box;top: 0;bottom: 0;left: 50%;z-index: -1;}#sk-container-id-1 div.sk-parallel-item {display: flex;flex-direction: column;z-index: 1;position: relative;background-color: white;}#sk-container-id-1 div.sk-parallel-item:first-child::after {align-self: flex-end;width: 50%;}#sk-container-id-1 div.sk-parallel-item:last-child::after {align-self: flex-start;width: 50%;}#sk-container-id-1 div.sk-parallel-item:only-child::after {width: 0;}#sk-container-id-1 div.sk-dashed-wrapped {border: 1px dashed gray;margin: 0 0.4em 0.5em 0.4em;box-sizing: border-box;padding-bottom: 0.4em;background-color: white;}#sk-container-id-1 div.sk-label label {font-family: monospace;font-weight: bold;display: inline-block;line-height: 1.2em;}#sk-container-id-1 div.sk-label-container {text-align: center;}#sk-container-id-1 div.sk-container {/* jupyter's `normalize.less` sets `[hidden] { display: none; }` but bootstrap.min.css set `[hidden] { display: none !important; }` so we also need the `!important` here to be able to override the default hidden behavior on the sphinx rendered scikit-learn.org. See: https://github.com/scikit-learn/scikit-learn/issues/21755 */display: inline-block !important;position: relative;}#sk-container-id-1 div.sk-text-repr-fallback {display: none;}</style><div id=\"sk-container-id-1\" class=\"sk-top-container\"><div class=\"sk-text-repr-fallback\"><pre>LogisticRegression(max_iter=5000, penalty=None, random_state=32110)</pre><b>In a Jupyter environment, please rerun this cell to show the HTML representation or trust the notebook. <br />On GitHub, the HTML representation is unable to render, please try loading this page with nbviewer.org.</b></div><div class=\"sk-container\" hidden><div class=\"sk-item\"><div class=\"sk-estimator sk-toggleable\"><input class=\"sk-toggleable__control sk-hidden--visually\" id=\"sk-estimator-id-1\" type=\"checkbox\" checked><label for=\"sk-estimator-id-1\" class=\"sk-toggleable__label sk-toggleable__label-arrow\">LogisticRegression</label><div class=\"sk-toggleable__content\"><pre>LogisticRegression(max_iter=5000, penalty=None, random_state=32110)</pre></div></div></div></div></div>"
      ],
      "text/plain": [
       "LogisticRegression(max_iter=5000, penalty=None, random_state=32110)"
      ]
     },
     "execution_count": 5,
     "metadata": {},
     "output_type": "execute_result"
    }
   ],
   "source": [
    "contiguous150 = LogisticRegression(penalty=None, random_state = 32110, max_iter = 5000)\n",
    "contiguous150.fit(contiguous150_train.iloc[:,0:768], contiguous150_train.sentiment)"
   ]
  },
  {
   "cell_type": "code",
   "execution_count": 6,
   "id": "851c164d",
   "metadata": {},
   "outputs": [],
   "source": [
    "contiguous150_pred = contiguous150.predict(contiguous150_test.iloc[:, 0:768])\n",
    "#Probability of positive review\n",
    "contiguous150_prob = contiguous150.predict_proba(contiguous150_test.iloc[:, 0:768])[:, 1]\n",
    "true = test.sentiment"
   ]
  },
  {
   "cell_type": "code",
   "execution_count": 7,
   "id": "979a882f",
   "metadata": {},
   "outputs": [
    {
     "name": "stdout",
     "output_type": "stream",
     "text": [
      "Accuracy: 0.759\n",
      "Precision: 0.8061224489795918\n",
      "Recall: 0.7301293900184843\n",
      "ROC AUC: 0.8008549486748899\n"
     ]
    }
   ],
   "source": [
    "assess_model(true, contiguous150_pred, contiguous150_prob)"
   ]
  },
  {
   "cell_type": "code",
   "execution_count": 15,
   "id": "9e2aaf60",
   "metadata": {},
   "outputs": [],
   "source": [
    "contiguous150_results = pd.DataFrame({'pred': contiguous150_pred, 'true': true, 'prob': contiguous150_prob})"
   ]
  },
  {
   "cell_type": "markdown",
   "id": "3cae1e0b",
   "metadata": {},
   "source": [
    "# Top 150 Tokens"
   ]
  },
  {
   "cell_type": "code",
   "execution_count": 16,
   "id": "0db1d1bb",
   "metadata": {},
   "outputs": [],
   "source": [
    "#Dataframes containing the extracted features from the Top 150 extractor\n",
    "top150_train = pd.read_csv(\"../data/top150_train_0000-2000.csv\")\n",
    "top150_test = pd.read_csv(\"../data/top150_test_1000.csv\")"
   ]
  },
  {
   "cell_type": "code",
   "execution_count": 18,
   "id": "cd06a877",
   "metadata": {},
   "outputs": [
    {
     "data": {
      "text/html": [
       "<style>#sk-container-id-3 {color: black;}#sk-container-id-3 pre{padding: 0;}#sk-container-id-3 div.sk-toggleable {background-color: white;}#sk-container-id-3 label.sk-toggleable__label {cursor: pointer;display: block;width: 100%;margin-bottom: 0;padding: 0.3em;box-sizing: border-box;text-align: center;}#sk-container-id-3 label.sk-toggleable__label-arrow:before {content: \"▸\";float: left;margin-right: 0.25em;color: #696969;}#sk-container-id-3 label.sk-toggleable__label-arrow:hover:before {color: black;}#sk-container-id-3 div.sk-estimator:hover label.sk-toggleable__label-arrow:before {color: black;}#sk-container-id-3 div.sk-toggleable__content {max-height: 0;max-width: 0;overflow: hidden;text-align: left;background-color: #f0f8ff;}#sk-container-id-3 div.sk-toggleable__content pre {margin: 0.2em;color: black;border-radius: 0.25em;background-color: #f0f8ff;}#sk-container-id-3 input.sk-toggleable__control:checked~div.sk-toggleable__content {max-height: 200px;max-width: 100%;overflow: auto;}#sk-container-id-3 input.sk-toggleable__control:checked~label.sk-toggleable__label-arrow:before {content: \"▾\";}#sk-container-id-3 div.sk-estimator input.sk-toggleable__control:checked~label.sk-toggleable__label {background-color: #d4ebff;}#sk-container-id-3 div.sk-label input.sk-toggleable__control:checked~label.sk-toggleable__label {background-color: #d4ebff;}#sk-container-id-3 input.sk-hidden--visually {border: 0;clip: rect(1px 1px 1px 1px);clip: rect(1px, 1px, 1px, 1px);height: 1px;margin: -1px;overflow: hidden;padding: 0;position: absolute;width: 1px;}#sk-container-id-3 div.sk-estimator {font-family: monospace;background-color: #f0f8ff;border: 1px dotted black;border-radius: 0.25em;box-sizing: border-box;margin-bottom: 0.5em;}#sk-container-id-3 div.sk-estimator:hover {background-color: #d4ebff;}#sk-container-id-3 div.sk-parallel-item::after {content: \"\";width: 100%;border-bottom: 1px solid gray;flex-grow: 1;}#sk-container-id-3 div.sk-label:hover label.sk-toggleable__label {background-color: #d4ebff;}#sk-container-id-3 div.sk-serial::before {content: \"\";position: absolute;border-left: 1px solid gray;box-sizing: border-box;top: 0;bottom: 0;left: 50%;z-index: 0;}#sk-container-id-3 div.sk-serial {display: flex;flex-direction: column;align-items: center;background-color: white;padding-right: 0.2em;padding-left: 0.2em;position: relative;}#sk-container-id-3 div.sk-item {position: relative;z-index: 1;}#sk-container-id-3 div.sk-parallel {display: flex;align-items: stretch;justify-content: center;background-color: white;position: relative;}#sk-container-id-3 div.sk-item::before, #sk-container-id-3 div.sk-parallel-item::before {content: \"\";position: absolute;border-left: 1px solid gray;box-sizing: border-box;top: 0;bottom: 0;left: 50%;z-index: -1;}#sk-container-id-3 div.sk-parallel-item {display: flex;flex-direction: column;z-index: 1;position: relative;background-color: white;}#sk-container-id-3 div.sk-parallel-item:first-child::after {align-self: flex-end;width: 50%;}#sk-container-id-3 div.sk-parallel-item:last-child::after {align-self: flex-start;width: 50%;}#sk-container-id-3 div.sk-parallel-item:only-child::after {width: 0;}#sk-container-id-3 div.sk-dashed-wrapped {border: 1px dashed gray;margin: 0 0.4em 0.5em 0.4em;box-sizing: border-box;padding-bottom: 0.4em;background-color: white;}#sk-container-id-3 div.sk-label label {font-family: monospace;font-weight: bold;display: inline-block;line-height: 1.2em;}#sk-container-id-3 div.sk-label-container {text-align: center;}#sk-container-id-3 div.sk-container {/* jupyter's `normalize.less` sets `[hidden] { display: none; }` but bootstrap.min.css set `[hidden] { display: none !important; }` so we also need the `!important` here to be able to override the default hidden behavior on the sphinx rendered scikit-learn.org. See: https://github.com/scikit-learn/scikit-learn/issues/21755 */display: inline-block !important;position: relative;}#sk-container-id-3 div.sk-text-repr-fallback {display: none;}</style><div id=\"sk-container-id-3\" class=\"sk-top-container\"><div class=\"sk-text-repr-fallback\"><pre>LogisticRegression(max_iter=5000, penalty=None, random_state=42155)</pre><b>In a Jupyter environment, please rerun this cell to show the HTML representation or trust the notebook. <br />On GitHub, the HTML representation is unable to render, please try loading this page with nbviewer.org.</b></div><div class=\"sk-container\" hidden><div class=\"sk-item\"><div class=\"sk-estimator sk-toggleable\"><input class=\"sk-toggleable__control sk-hidden--visually\" id=\"sk-estimator-id-3\" type=\"checkbox\" checked><label for=\"sk-estimator-id-3\" class=\"sk-toggleable__label sk-toggleable__label-arrow\">LogisticRegression</label><div class=\"sk-toggleable__content\"><pre>LogisticRegression(max_iter=5000, penalty=None, random_state=42155)</pre></div></div></div></div></div>"
      ],
      "text/plain": [
       "LogisticRegression(max_iter=5000, penalty=None, random_state=42155)"
      ]
     },
     "execution_count": 18,
     "metadata": {},
     "output_type": "execute_result"
    }
   ],
   "source": [
    "top150 = LogisticRegression(penalty=None, random_state = 42155, max_iter = 5000)\n",
    "top150.fit(top150_train.iloc[:,0:768], top150_train.sentiment)"
   ]
  },
  {
   "cell_type": "code",
   "execution_count": 19,
   "id": "b574947d",
   "metadata": {},
   "outputs": [],
   "source": [
    "top150_pred = top150.predict(top150_test.iloc[:, 0:768])\n",
    "#Probability of positive review\n",
    "top150_prob = top150.predict_proba(top150_test.iloc[:, 0:768])[:, 1]\n",
    "true = test.sentiment"
   ]
  },
  {
   "cell_type": "code",
   "execution_count": 20,
   "id": "ec8ec72d",
   "metadata": {},
   "outputs": [
    {
     "name": "stdout",
     "output_type": "stream",
     "text": [
      "Accuracy: 0.748\n",
      "Precision: 0.7752380952380953\n",
      "Recall: 0.7523105360443623\n",
      "ROC AUC: 0.7999911404282395\n"
     ]
    }
   ],
   "source": [
    "assess_model(true, top150_pred, top150_prob)"
   ]
  },
  {
   "cell_type": "markdown",
   "id": "e1d11d62",
   "metadata": {},
   "source": [
    "# Contiguous 50"
   ]
  },
  {
   "cell_type": "code",
   "execution_count": 21,
   "id": "0d77d48b",
   "metadata": {},
   "outputs": [],
   "source": [
    "#Dataframes containing the extracted features from the contiguous 50 extractor\n",
    "contiguous050_train = pd.read_csv(\"../data/contiguous050_train_0000-2000.csv\")\n",
    "contiguous050_test = pd.read_csv(\"../data/contiguous050_test_1000.csv\")"
   ]
  },
  {
   "cell_type": "code",
   "execution_count": 22,
   "id": "54617f73",
   "metadata": {},
   "outputs": [
    {
     "data": {
      "text/html": [
       "<style>#sk-container-id-4 {color: black;}#sk-container-id-4 pre{padding: 0;}#sk-container-id-4 div.sk-toggleable {background-color: white;}#sk-container-id-4 label.sk-toggleable__label {cursor: pointer;display: block;width: 100%;margin-bottom: 0;padding: 0.3em;box-sizing: border-box;text-align: center;}#sk-container-id-4 label.sk-toggleable__label-arrow:before {content: \"▸\";float: left;margin-right: 0.25em;color: #696969;}#sk-container-id-4 label.sk-toggleable__label-arrow:hover:before {color: black;}#sk-container-id-4 div.sk-estimator:hover label.sk-toggleable__label-arrow:before {color: black;}#sk-container-id-4 div.sk-toggleable__content {max-height: 0;max-width: 0;overflow: hidden;text-align: left;background-color: #f0f8ff;}#sk-container-id-4 div.sk-toggleable__content pre {margin: 0.2em;color: black;border-radius: 0.25em;background-color: #f0f8ff;}#sk-container-id-4 input.sk-toggleable__control:checked~div.sk-toggleable__content {max-height: 200px;max-width: 100%;overflow: auto;}#sk-container-id-4 input.sk-toggleable__control:checked~label.sk-toggleable__label-arrow:before {content: \"▾\";}#sk-container-id-4 div.sk-estimator input.sk-toggleable__control:checked~label.sk-toggleable__label {background-color: #d4ebff;}#sk-container-id-4 div.sk-label input.sk-toggleable__control:checked~label.sk-toggleable__label {background-color: #d4ebff;}#sk-container-id-4 input.sk-hidden--visually {border: 0;clip: rect(1px 1px 1px 1px);clip: rect(1px, 1px, 1px, 1px);height: 1px;margin: -1px;overflow: hidden;padding: 0;position: absolute;width: 1px;}#sk-container-id-4 div.sk-estimator {font-family: monospace;background-color: #f0f8ff;border: 1px dotted black;border-radius: 0.25em;box-sizing: border-box;margin-bottom: 0.5em;}#sk-container-id-4 div.sk-estimator:hover {background-color: #d4ebff;}#sk-container-id-4 div.sk-parallel-item::after {content: \"\";width: 100%;border-bottom: 1px solid gray;flex-grow: 1;}#sk-container-id-4 div.sk-label:hover label.sk-toggleable__label {background-color: #d4ebff;}#sk-container-id-4 div.sk-serial::before {content: \"\";position: absolute;border-left: 1px solid gray;box-sizing: border-box;top: 0;bottom: 0;left: 50%;z-index: 0;}#sk-container-id-4 div.sk-serial {display: flex;flex-direction: column;align-items: center;background-color: white;padding-right: 0.2em;padding-left: 0.2em;position: relative;}#sk-container-id-4 div.sk-item {position: relative;z-index: 1;}#sk-container-id-4 div.sk-parallel {display: flex;align-items: stretch;justify-content: center;background-color: white;position: relative;}#sk-container-id-4 div.sk-item::before, #sk-container-id-4 div.sk-parallel-item::before {content: \"\";position: absolute;border-left: 1px solid gray;box-sizing: border-box;top: 0;bottom: 0;left: 50%;z-index: -1;}#sk-container-id-4 div.sk-parallel-item {display: flex;flex-direction: column;z-index: 1;position: relative;background-color: white;}#sk-container-id-4 div.sk-parallel-item:first-child::after {align-self: flex-end;width: 50%;}#sk-container-id-4 div.sk-parallel-item:last-child::after {align-self: flex-start;width: 50%;}#sk-container-id-4 div.sk-parallel-item:only-child::after {width: 0;}#sk-container-id-4 div.sk-dashed-wrapped {border: 1px dashed gray;margin: 0 0.4em 0.5em 0.4em;box-sizing: border-box;padding-bottom: 0.4em;background-color: white;}#sk-container-id-4 div.sk-label label {font-family: monospace;font-weight: bold;display: inline-block;line-height: 1.2em;}#sk-container-id-4 div.sk-label-container {text-align: center;}#sk-container-id-4 div.sk-container {/* jupyter's `normalize.less` sets `[hidden] { display: none; }` but bootstrap.min.css set `[hidden] { display: none !important; }` so we also need the `!important` here to be able to override the default hidden behavior on the sphinx rendered scikit-learn.org. See: https://github.com/scikit-learn/scikit-learn/issues/21755 */display: inline-block !important;position: relative;}#sk-container-id-4 div.sk-text-repr-fallback {display: none;}</style><div id=\"sk-container-id-4\" class=\"sk-top-container\"><div class=\"sk-text-repr-fallback\"><pre>LogisticRegression(max_iter=20000, penalty=None, random_state=41854)</pre><b>In a Jupyter environment, please rerun this cell to show the HTML representation or trust the notebook. <br />On GitHub, the HTML representation is unable to render, please try loading this page with nbviewer.org.</b></div><div class=\"sk-container\" hidden><div class=\"sk-item\"><div class=\"sk-estimator sk-toggleable\"><input class=\"sk-toggleable__control sk-hidden--visually\" id=\"sk-estimator-id-4\" type=\"checkbox\" checked><label for=\"sk-estimator-id-4\" class=\"sk-toggleable__label sk-toggleable__label-arrow\">LogisticRegression</label><div class=\"sk-toggleable__content\"><pre>LogisticRegression(max_iter=20000, penalty=None, random_state=41854)</pre></div></div></div></div></div>"
      ],
      "text/plain": [
       "LogisticRegression(max_iter=20000, penalty=None, random_state=41854)"
      ]
     },
     "execution_count": 22,
     "metadata": {},
     "output_type": "execute_result"
    }
   ],
   "source": [
    "contiguous050 = LogisticRegression(penalty=None, random_state = 41854, max_iter = 20000)\n",
    "contiguous050.fit(contiguous050_train.iloc[:,0:768], contiguous050_train.sentiment)"
   ]
  },
  {
   "cell_type": "code",
   "execution_count": 23,
   "id": "f732fb30",
   "metadata": {},
   "outputs": [],
   "source": [
    "contiguous050_pred = contiguous050.predict(contiguous050_test.iloc[:, 0:768])\n",
    "#Probability of positive review\n",
    "contiguous050_prob = contiguous050.predict_proba(contiguous050_test.iloc[:, 0:768])[:, 1]\n",
    "true = test.sentiment"
   ]
  },
  {
   "cell_type": "code",
   "execution_count": 24,
   "id": "a1654e21",
   "metadata": {},
   "outputs": [
    {
     "name": "stdout",
     "output_type": "stream",
     "text": [
      "Accuracy: 0.677\n",
      "Precision: 0.7104247104247104\n",
      "Recall: 0.6802218114602587\n",
      "ROC AUC: 0.6998739524563165\n"
     ]
    }
   ],
   "source": [
    "assess_model(true, contiguous050_pred, contiguous050_prob)"
   ]
  },
  {
   "cell_type": "markdown",
   "id": "d6e0e7ea",
   "metadata": {},
   "source": [
    "# Top 50 Tokens"
   ]
  },
  {
   "cell_type": "code",
   "execution_count": 25,
   "id": "dc0d7160",
   "metadata": {},
   "outputs": [],
   "source": [
    "#Dataframes containing the extracted features from the Top 50 extractor\n",
    "top050_train = pd.read_csv(\"../data/top050_train_0000-2000.csv\")\n",
    "top050_test = pd.read_csv(\"../data/top050_test_1000.csv\")"
   ]
  },
  {
   "cell_type": "code",
   "execution_count": 26,
   "id": "715f3dd9",
   "metadata": {},
   "outputs": [
    {
     "name": "stderr",
     "output_type": "stream",
     "text": [
      "C:\\Users\\arthu\\anaconda3\\envs\\stats232\\Lib\\site-packages\\sklearn\\linear_model\\_logistic.py:460: ConvergenceWarning: lbfgs failed to converge (status=1):\n",
      "STOP: TOTAL NO. of f AND g EVALUATIONS EXCEEDS LIMIT.\n",
      "\n",
      "Increase the number of iterations (max_iter) or scale the data as shown in:\n",
      "    https://scikit-learn.org/stable/modules/preprocessing.html\n",
      "Please also refer to the documentation for alternative solver options:\n",
      "    https://scikit-learn.org/stable/modules/linear_model.html#logistic-regression\n",
      "  n_iter_i = _check_optimize_result(\n"
     ]
    },
    {
     "data": {
      "text/html": [
       "<style>#sk-container-id-5 {color: black;}#sk-container-id-5 pre{padding: 0;}#sk-container-id-5 div.sk-toggleable {background-color: white;}#sk-container-id-5 label.sk-toggleable__label {cursor: pointer;display: block;width: 100%;margin-bottom: 0;padding: 0.3em;box-sizing: border-box;text-align: center;}#sk-container-id-5 label.sk-toggleable__label-arrow:before {content: \"▸\";float: left;margin-right: 0.25em;color: #696969;}#sk-container-id-5 label.sk-toggleable__label-arrow:hover:before {color: black;}#sk-container-id-5 div.sk-estimator:hover label.sk-toggleable__label-arrow:before {color: black;}#sk-container-id-5 div.sk-toggleable__content {max-height: 0;max-width: 0;overflow: hidden;text-align: left;background-color: #f0f8ff;}#sk-container-id-5 div.sk-toggleable__content pre {margin: 0.2em;color: black;border-radius: 0.25em;background-color: #f0f8ff;}#sk-container-id-5 input.sk-toggleable__control:checked~div.sk-toggleable__content {max-height: 200px;max-width: 100%;overflow: auto;}#sk-container-id-5 input.sk-toggleable__control:checked~label.sk-toggleable__label-arrow:before {content: \"▾\";}#sk-container-id-5 div.sk-estimator input.sk-toggleable__control:checked~label.sk-toggleable__label {background-color: #d4ebff;}#sk-container-id-5 div.sk-label input.sk-toggleable__control:checked~label.sk-toggleable__label {background-color: #d4ebff;}#sk-container-id-5 input.sk-hidden--visually {border: 0;clip: rect(1px 1px 1px 1px);clip: rect(1px, 1px, 1px, 1px);height: 1px;margin: -1px;overflow: hidden;padding: 0;position: absolute;width: 1px;}#sk-container-id-5 div.sk-estimator {font-family: monospace;background-color: #f0f8ff;border: 1px dotted black;border-radius: 0.25em;box-sizing: border-box;margin-bottom: 0.5em;}#sk-container-id-5 div.sk-estimator:hover {background-color: #d4ebff;}#sk-container-id-5 div.sk-parallel-item::after {content: \"\";width: 100%;border-bottom: 1px solid gray;flex-grow: 1;}#sk-container-id-5 div.sk-label:hover label.sk-toggleable__label {background-color: #d4ebff;}#sk-container-id-5 div.sk-serial::before {content: \"\";position: absolute;border-left: 1px solid gray;box-sizing: border-box;top: 0;bottom: 0;left: 50%;z-index: 0;}#sk-container-id-5 div.sk-serial {display: flex;flex-direction: column;align-items: center;background-color: white;padding-right: 0.2em;padding-left: 0.2em;position: relative;}#sk-container-id-5 div.sk-item {position: relative;z-index: 1;}#sk-container-id-5 div.sk-parallel {display: flex;align-items: stretch;justify-content: center;background-color: white;position: relative;}#sk-container-id-5 div.sk-item::before, #sk-container-id-5 div.sk-parallel-item::before {content: \"\";position: absolute;border-left: 1px solid gray;box-sizing: border-box;top: 0;bottom: 0;left: 50%;z-index: -1;}#sk-container-id-5 div.sk-parallel-item {display: flex;flex-direction: column;z-index: 1;position: relative;background-color: white;}#sk-container-id-5 div.sk-parallel-item:first-child::after {align-self: flex-end;width: 50%;}#sk-container-id-5 div.sk-parallel-item:last-child::after {align-self: flex-start;width: 50%;}#sk-container-id-5 div.sk-parallel-item:only-child::after {width: 0;}#sk-container-id-5 div.sk-dashed-wrapped {border: 1px dashed gray;margin: 0 0.4em 0.5em 0.4em;box-sizing: border-box;padding-bottom: 0.4em;background-color: white;}#sk-container-id-5 div.sk-label label {font-family: monospace;font-weight: bold;display: inline-block;line-height: 1.2em;}#sk-container-id-5 div.sk-label-container {text-align: center;}#sk-container-id-5 div.sk-container {/* jupyter's `normalize.less` sets `[hidden] { display: none; }` but bootstrap.min.css set `[hidden] { display: none !important; }` so we also need the `!important` here to be able to override the default hidden behavior on the sphinx rendered scikit-learn.org. See: https://github.com/scikit-learn/scikit-learn/issues/21755 */display: inline-block !important;position: relative;}#sk-container-id-5 div.sk-text-repr-fallback {display: none;}</style><div id=\"sk-container-id-5\" class=\"sk-top-container\"><div class=\"sk-text-repr-fallback\"><pre>LogisticRegression(max_iter=50000, penalty=None, random_state=31254)</pre><b>In a Jupyter environment, please rerun this cell to show the HTML representation or trust the notebook. <br />On GitHub, the HTML representation is unable to render, please try loading this page with nbviewer.org.</b></div><div class=\"sk-container\" hidden><div class=\"sk-item\"><div class=\"sk-estimator sk-toggleable\"><input class=\"sk-toggleable__control sk-hidden--visually\" id=\"sk-estimator-id-5\" type=\"checkbox\" checked><label for=\"sk-estimator-id-5\" class=\"sk-toggleable__label sk-toggleable__label-arrow\">LogisticRegression</label><div class=\"sk-toggleable__content\"><pre>LogisticRegression(max_iter=50000, penalty=None, random_state=31254)</pre></div></div></div></div></div>"
      ],
      "text/plain": [
       "LogisticRegression(max_iter=50000, penalty=None, random_state=31254)"
      ]
     },
     "execution_count": 26,
     "metadata": {},
     "output_type": "execute_result"
    }
   ],
   "source": [
    "top050 = LogisticRegression(penalty=None, random_state = 31254, max_iter = 50000)\n",
    "top050.fit(top050_train.iloc[:,0:768], top050_train.sentiment)"
   ]
  },
  {
   "cell_type": "code",
   "execution_count": 27,
   "id": "61c2087e",
   "metadata": {},
   "outputs": [],
   "source": [
    "top050_pred = top050.predict(top050_test.iloc[:, 0:768])\n",
    "#Probability of positive review\n",
    "top050_prob = top050.predict_proba(top050_test.iloc[:, 0:768])[:, 1]\n",
    "true = test.sentiment"
   ]
  },
  {
   "cell_type": "code",
   "execution_count": 28,
   "id": "bc46d611",
   "metadata": {},
   "outputs": [
    {
     "name": "stdout",
     "output_type": "stream",
     "text": [
      "Accuracy: 0.66\n",
      "Precision: 0.6899810964083176\n",
      "Recall: 0.6746765249537893\n",
      "ROC AUC: 0.6794465989312135\n"
     ]
    }
   ],
   "source": [
    "assess_model(true, top050_pred, top050_prob)"
   ]
  },
  {
   "cell_type": "markdown",
   "id": "46936267",
   "metadata": {},
   "source": [
    "# Pretrained BERT\n",
    "\n",
    "Model from https://huggingface.co/textattack/bert-base-uncased-imdb"
   ]
  },
  {
   "cell_type": "code",
   "execution_count": 19,
   "id": "78c0eafd",
   "metadata": {},
   "outputs": [],
   "source": [
    "pretrain_tokenizer = AutoTokenizer.from_pretrained(\"textattack/bert-base-uncased-imdb\")\n",
    "pretrain_model = AutoModelForSequenceClassification.from_pretrained(\"textattack/bert-base-uncased-imdb\")"
   ]
  },
  {
   "cell_type": "code",
   "execution_count": 51,
   "id": "1d65c1df",
   "metadata": {},
   "outputs": [
    {
     "name": "stdout",
     "output_type": "stream",
     "text": [
      "Location: 0\n",
      "Location: 50\n",
      "Location: 100\n",
      "Location: 150\n",
      "Location: 200\n",
      "Location: 250\n",
      "Location: 300\n",
      "Location: 350\n",
      "Location: 400\n",
      "Location: 450\n",
      "Location: 500\n",
      "Location: 550\n",
      "Location: 600\n",
      "Location: 650\n",
      "Location: 700\n",
      "Location: 750\n",
      "Location: 800\n",
      "Location: 850\n",
      "Location: 900\n",
      "Location: 950\n",
      "File saved successfully.\n"
     ]
    }
   ],
   "source": [
    "#Thanks to https://huggingface.co/docs/transformers/main/en/model_doc/bert#transformers.BertForSequenceClassification\n",
    "#Predicted class and probabilities of positive class\n",
    "pred, prob = [], []\n",
    "for i in range(0, 1000):\n",
    "    if i % 50 == 0:\n",
    "        print(f\"Location: {i}\")\n",
    "    review = test.iloc[i,].review\n",
    "    #tokenize the review\n",
    "    inputs = pretrain_tokenizer(\n",
    "        review,\n",
    "        return_tensors='pt',\n",
    "        max_length = 512,\n",
    "        truncation = 'longest_first',\n",
    "    )\n",
    "    with torch.no_grad():\n",
    "        logits = pretrain_model(**inputs).logits\n",
    "    pred.append(logits.argmax().item())\n",
    "    #Probability of positive class\n",
    "    #https://stackoverflow.com/questions/46416984/how-to-convert-logits-to-probability-in-binary-classification-in-tensorflow\n",
    "    prob.append(torch.nn.functional.softmax(logits, dim = 1)[0, 1].item())\n",
    "pretrain_output_df = pd.DataFrame({'pred': pred, 'prob': prob})\n",
    "pretrain_output_df.to_csv(\"../data/pretrain_test_pred_1000.csv\", index = False)\n",
    "print(\"File saved successfully.\")"
   ]
  },
  {
   "cell_type": "code",
   "execution_count": 52,
   "id": "7b1ffdc1",
   "metadata": {
    "scrolled": true
   },
   "outputs": [
    {
     "name": "stdout",
     "output_type": "stream",
     "text": [
      "Accuracy: 0.951\n",
      "Precision: 0.9641509433962264\n",
      "Recall: 0.944547134935305\n",
      "ROC AUC: 0.9862596096150515\n"
     ]
    }
   ],
   "source": [
    "true = test.sentiment\n",
    "assess_model(true, pred, prob)"
   ]
  },
  {
   "cell_type": "markdown",
   "id": "fc9517e8",
   "metadata": {},
   "source": [
    "# Vanilla BERT"
   ]
  },
  {
   "cell_type": "code",
   "execution_count": 9,
   "id": "47cb097d",
   "metadata": {},
   "outputs": [
    {
     "name": "stdout",
     "output_type": "stream",
     "text": [
      "Accuracy: 0.78\n",
      "Precision: 0.8034026465028355\n",
      "Recall: 0.7855822550831792\n",
      "ROC AUC: 0.8274517858077715\n"
     ]
    }
   ],
   "source": [
    "#Dataframes containing the extracted features from the vanilla BERT\n",
    "vanilla_train = pd.read_csv(\"../data/vanilla_train_0000-2000.csv\")\n",
    "vanilla_test = pd.read_csv(\"../data/vanilla_test_1000.csv\")\n",
    "\n",
    "vanilla = LogisticRegression(penalty=None, random_state = 34153, max_iter = 5000)\n",
    "vanilla.fit(vanilla_train.iloc[:,0:768], vanilla_train.sentiment)\n",
    "\n",
    "vanilla_pred = vanilla.predict(vanilla_test.iloc[:, 0:768])\n",
    "#Probability of positive review\n",
    "vanilla_prob = vanilla.predict_proba(vanilla_test.iloc[:, 0:768])[:, 1]\n",
    "true = test.sentiment\n",
    "\n",
    "assess_model(true, vanilla_pred, vanilla_prob)"
   ]
  },
  {
   "cell_type": "code",
   "execution_count": 15,
   "id": "08b17d17",
   "metadata": {},
   "outputs": [
    {
     "name": "stderr",
     "output_type": "stream",
     "text": [
      "C:\\Users\\arthu\\anaconda3\\envs\\stats232\\Lib\\site-packages\\sklearn\\base.py:464: UserWarning: X does not have valid feature names, but LogisticRegression was fitted with feature names\n",
      "  warnings.warn(\n",
      "C:\\Users\\arthu\\anaconda3\\envs\\stats232\\Lib\\site-packages\\sklearn\\linear_model\\_logistic.py:1413: RuntimeWarning: divide by zero encountered in log\n",
      "  return np.log(self.predict_proba(X))\n"
     ]
    },
    {
     "data": {
      "text/plain": [
       "array([[-inf,   0.]])"
      ]
     },
     "execution_count": 15,
     "metadata": {},
     "output_type": "execute_result"
    }
   ],
   "source": [
    "vanilla.predict_log_proba(vanilla_test.iloc[2, 0:768].to_numpy().reshape(1, -1))"
   ]
  },
  {
   "cell_type": "markdown",
   "id": "02a8250d",
   "metadata": {},
   "source": [
    "# Output"
   ]
  },
  {
   "cell_type": "code",
   "execution_count": 31,
   "id": "a1730f08",
   "metadata": {},
   "outputs": [],
   "source": [
    "output = pd.DataFrame({'true': true,\n",
    "                      'vanilla_pred': vanilla_pred,\n",
    "                      'cont150': contiguous150_pred,\n",
    "                      'top150': top150_pred,\n",
    "                      'cont50': contiguous050_pred,\n",
    "                      'top50': top050_pred})"
   ]
  },
  {
   "cell_type": "code",
   "execution_count": 33,
   "id": "d416bd3b",
   "metadata": {},
   "outputs": [],
   "source": [
    "output.to_csv(\"../results/results.csv\")"
   ]
  }
 ],
 "metadata": {
  "kernelspec": {
   "display_name": "Python (STATS232)",
   "language": "python",
   "name": "stats232"
  },
  "language_info": {
   "codemirror_mode": {
    "name": "ipython",
    "version": 3
   },
   "file_extension": ".py",
   "mimetype": "text/x-python",
   "name": "python",
   "nbconvert_exporter": "python",
   "pygments_lexer": "ipython3",
   "version": "3.11.5"
  }
 },
 "nbformat": 4,
 "nbformat_minor": 5
}
