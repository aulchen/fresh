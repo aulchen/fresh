{
 "cells": [
  {
   "cell_type": "code",
   "execution_count": 2,
   "id": "1306eb64",
   "metadata": {},
   "outputs": [],
   "source": [
    "import re\n",
    "import torch\n",
    "import torch.nn as nn\n",
    "import torch.optim as optim\n",
    "import pandas as pd\n",
    "import numpy as np\n",
    "from heapq import *\n",
    "from transformers import BertTokenizer\n",
    "from transformers import get_linear_schedule_with_warmup\n",
    "from torchtext.datasets import IMDB\n",
    "from torch.utils.data import DataLoader, TensorDataset\n",
    "from sklearn.model_selection import train_test_split\n",
    "\n",
    "from BertExtractors import *\n",
    "\n",
    "%load_ext autoreload\n",
    "%autoreload 2"
   ]
  },
  {
   "cell_type": "code",
   "execution_count": 7,
   "id": "a7ca8891",
   "metadata": {},
   "outputs": [],
   "source": [
    "#Strip out HTML\n",
    "#Thanks to https://www.kaggle.com/code/rafaeltiedra/step-by-step-imdb-sentiment-analysis\n",
    "'''\n",
    "def process(x):\n",
    "    x = re.sub('<.*?>', ' ', x)\n",
    "    x = re.sub('http\\S+', ' ', x)\n",
    "    return x.strip()\n",
    "\n",
    "df = pd.read_csv(\"../data/IMDBDataset.csv\")\n",
    "df['sentiment'] = df['sentiment'] == 'positive'\n",
    "df['sentiment'] = df['sentiment'].astype('int')\n",
    "df['review'] = df['review'].apply(lambda x: process(x))\n",
    "df.to_csv(\"../data/IMDBDataset_CleanHTML.csv\", index = False)\n",
    "'''\n",
    "df = pd.read_csv(\"../data/IMDBDataset_CleanHTML.csv\")\n",
    "train = df.iloc[:2000,]\n",
    "test = df.iloc[25000:26000,]\n",
    "test = test.reset_index(drop = True)"
   ]
  },
  {
   "cell_type": "code",
   "execution_count": 3,
   "id": "a8d7df79",
   "metadata": {},
   "outputs": [
    {
     "name": "stderr",
     "output_type": "stream",
     "text": [
      "Using cache found in C:\\Users\\arthu/.cache\\torch\\hub\\huggingface_pytorch-transformers_main\n",
      "Using cache found in C:\\Users\\arthu/.cache\\torch\\hub\\huggingface_pytorch-transformers_main\n"
     ]
    }
   ],
   "source": [
    "# Load the vanilla BERT model and tokenizer\n",
    "model_bert = torch.hub.load('huggingface/pytorch-transformers', 'model', 'bert-base-uncased')\n",
    "tokenizer = torch.hub.load('huggingface/pytorch-transformers', 'tokenizer', 'bert-base-uncased')"
   ]
  },
  {
   "cell_type": "markdown",
   "id": "818d778d",
   "metadata": {},
   "source": [
    "# Contiguous 150 Extractor"
   ]
  },
  {
   "cell_type": "code",
   "execution_count": 113,
   "id": "e5193ce4",
   "metadata": {
    "scrolled": true
   },
   "outputs": [
    {
     "name": "stdout",
     "output_type": "stream",
     "text": [
      "Location: 0\n",
      "Location: 50\n",
      "Location: 100\n",
      "Location: 150\n",
      "Location: 200\n",
      "Location: 250\n",
      "Location: 300\n",
      "Location: 350\n",
      "Location: 400\n",
      "Location: 450\n",
      "Location: 500\n",
      "Location: 550\n",
      "Location: 600\n",
      "Location: 650\n",
      "Location: 700\n",
      "Location: 750\n",
      "Location: 800\n",
      "Location: 850\n",
      "Location: 900\n",
      "Location: 950\n",
      "Files saved successfully\n"
     ]
    }
   ],
   "source": [
    "extractor = BertContiguousKExtractor(model_bert, tokenizer, 150)\n",
    "#The feature representations produced by BERT from the rationales\n",
    "#Extract from the test\n",
    "output = []\n",
    "for i in range(0, 1000):\n",
    "    if i % 50 == 0:\n",
    "        print(f\"Location: {i}\")\n",
    "    test_ids = extractor.extract(test.iloc[i].review)\n",
    "    with torch.no_grad():\n",
    "        output.append(model_bert(test_ids).pooler_output)\n",
    "#DFs containing the 768 extracted features\n",
    "test_feat_df = pd.DataFrame(torch.cat(output, dim=0))\n",
    "#Add the sentiment\n",
    "test_feat_df = pd.concat([test_feat_df, test['sentiment']],\n",
    "                          axis = 1)\n",
    "test_feat_df.to_csv(\"../data/contiguous150_test_1000.csv\", index = False)\n",
    "print(\"Files saved successfully\")"
   ]
  },
  {
   "cell_type": "markdown",
   "id": "4ea50ca6",
   "metadata": {},
   "source": [
    "## Extract Rationales"
   ]
  },
  {
   "cell_type": "code",
   "execution_count": 15,
   "id": "469d3d58",
   "metadata": {},
   "outputs": [
    {
     "name": "stdout",
     "output_type": "stream",
     "text": [
      "Location: 0\n",
      "Files saved successfully\n"
     ]
    }
   ],
   "source": [
    "extractor = BertContiguousKExtractor(model_bert, tokenizer, 150)\n",
    "#The feature representations produced by BERT from the rationales\n",
    "#Extract from the test\n",
    "output = []\n",
    "for i in range(0, 5):\n",
    "    if i % 50 == 0:\n",
    "        print(f\"Location: {i}\")\n",
    "    train_ids = extractor.extract(train.iloc[i].review)\n",
    "    output.append(extractor.input_ids_to_text(train_ids))\n",
    "\n",
    "#DFs containing the rationales\n",
    "rationale_df = pd.DataFrame(output)\n",
    "#Add the sentiment\n",
    "rationale_df = pd.concat([rationale_df, train.iloc[:5]['sentiment']],\n",
    "                          axis = 1)\n",
    "rationale_df.to_csv(\"../data/text_rationales/contiguous150_train_0005.csv\", index = False)\n",
    "print(\"Files saved successfully\")"
   ]
  },
  {
   "cell_type": "markdown",
   "id": "9e37ceb7",
   "metadata": {},
   "source": [
    "# Contiguous 50 Extractor"
   ]
  },
  {
   "cell_type": "code",
   "execution_count": 17,
   "id": "114afc1e",
   "metadata": {},
   "outputs": [
    {
     "name": "stdout",
     "output_type": "stream",
     "text": [
      "Location: 0\n",
      "Location: 50\n",
      "Location: 100\n",
      "Location: 150\n",
      "Location: 200\n",
      "Location: 250\n",
      "Location: 300\n",
      "Location: 350\n",
      "Location: 400\n",
      "Location: 450\n",
      "Location: 500\n",
      "Location: 550\n",
      "Location: 600\n",
      "Location: 650\n",
      "Location: 700\n",
      "Location: 750\n",
      "Location: 800\n",
      "Location: 850\n",
      "Location: 900\n",
      "Location: 950\n",
      "Files saved successfully\n"
     ]
    }
   ],
   "source": [
    "extractor = BertContiguousKExtractor(model_bert, tokenizer, 50)\n",
    "#The feature representations produced by BERT from the rationales\n",
    "output = []\n",
    "for i in range(0, 1000):\n",
    "    if i % 50 == 0:\n",
    "        print(f\"Location: {i}\")\n",
    "    input_ids = extractor.extract(test.iloc[i].review)\n",
    "    with torch.no_grad():\n",
    "        output.append(model_bert(input_ids).pooler_output)\n",
    "#DFs containing the 768 extracted features\n",
    "output_df = pd.DataFrame(torch.cat(output, dim=0))\n",
    "#Add the sentiment\n",
    "output_df = pd.concat([output_df, test['sentiment']],\n",
    "                          axis = 1)\n",
    "output_df.to_csv(\"../data/contiguous050_test_1000.csv\", index = False)\n",
    "print(\"Files saved successfully\")"
   ]
  },
  {
   "cell_type": "markdown",
   "id": "4f85bea0",
   "metadata": {},
   "source": [
    "## Extract Rationales"
   ]
  },
  {
   "cell_type": "code",
   "execution_count": 10,
   "id": "5753deef",
   "metadata": {},
   "outputs": [
    {
     "name": "stdout",
     "output_type": "stream",
     "text": [
      "Location: 0\n",
      "Location: 20\n",
      "Location: 40\n",
      "Files saved successfully\n"
     ]
    }
   ],
   "source": [
    "extractor = BertContiguousKExtractor(model_bert, tokenizer, 50)\n",
    "#The feature representations produced by BERT from the rationales\n",
    "#Extract from the test\n",
    "output = []\n",
    "for i in range(0, 60):\n",
    "    if i % 20 == 0:\n",
    "        print(f\"Location: {i}\")\n",
    "    train_ids = extractor.extract(test.iloc[i].review)\n",
    "    output.append(extractor.input_ids_to_text(train_ids))\n",
    "\n",
    "#DFs containing the rationales\n",
    "rationale_df = pd.DataFrame(output)\n",
    "#Add the sentiment\n",
    "rationale_df = pd.concat([rationale_df, test.iloc[:60]['sentiment']],\n",
    "                          axis = 1)\n",
    "rationale_df.to_csv(\"../data/text_rationales/contiguous050_test_0060.csv\", index = False)\n",
    "print(\"Files saved successfully\")"
   ]
  },
  {
   "cell_type": "markdown",
   "id": "67900926",
   "metadata": {},
   "source": [
    "# Top 150 Extractor"
   ]
  },
  {
   "cell_type": "code",
   "execution_count": 101,
   "id": "b2d33697",
   "metadata": {
    "scrolled": true
   },
   "outputs": [
    {
     "name": "stdout",
     "output_type": "stream",
     "text": [
      "Location: 0\n",
      "Files saved successfully\n"
     ]
    }
   ],
   "source": [
    "extractor = BertTopKExtractor(model_bert, tokenizer, 150)\n",
    "#The feature representations produced by BERT from the rationales\n",
    "output = []\n",
    "#Measure the time for the first 1000\n",
    "for i in range(0, 1):\n",
    "    if i % 50 == 0:\n",
    "        print(f\"Location: {i}\")\n",
    "    train_ids = extractor.extract(train.iloc[i].review)\n",
    "    with torch.no_grad():\n",
    "        output.append(model_bert(train_ids).pooler_output)\n",
    "#DFs containing the 768 extracted features\n",
    "train_feat_df = pd.DataFrame(torch.cat(output, dim=0))\n",
    "#Add the sentiment\n",
    "train_feat_df = pd.concat([train_feat_df, train['sentiment']],\n",
    "                          axis = 1)\n",
    "train_feat_df.to_csv(\"../data/foobar.csv\", index = False)\n",
    "print(\"Files saved successfully\")"
   ]
  },
  {
   "cell_type": "markdown",
   "id": "8948cb8b",
   "metadata": {},
   "source": [
    "# Top 50 Extractor"
   ]
  },
  {
   "cell_type": "code",
   "execution_count": 10,
   "id": "a12c4007",
   "metadata": {},
   "outputs": [
    {
     "name": "stdout",
     "output_type": "stream",
     "text": [
      "Location: 0\n",
      "Location: 50\n",
      "Location: 100\n",
      "Location: 150\n",
      "Location: 200\n",
      "Location: 250\n",
      "Location: 300\n",
      "Location: 350\n",
      "Location: 400\n",
      "Location: 450\n",
      "Location: 500\n",
      "Location: 550\n",
      "Location: 600\n",
      "Location: 650\n",
      "Location: 700\n",
      "Location: 750\n",
      "Location: 800\n",
      "Location: 850\n",
      "Location: 900\n",
      "Location: 950\n",
      "Files saved successfully\n"
     ]
    }
   ],
   "source": [
    "extractor = BertTopKExtractor(model_bert, tokenizer, 50)\n",
    "#The feature representations produced by BERT from the rationales\n",
    "output = []\n",
    "for i in range(0, 1000):\n",
    "    if i % 50 == 0:\n",
    "        print(f\"Location: {i}\")\n",
    "    input_ids = extractor.extract(test.iloc[i].review)\n",
    "    with torch.no_grad():\n",
    "        output.append(model_bert(input_ids).pooler_output)\n",
    "#DFs containing the 768 extracted features\n",
    "output_df = pd.DataFrame(torch.cat(output, dim=0))\n",
    "#Add the sentiment\n",
    "output_df = pd.concat([output_df, test['sentiment']],\n",
    "                          axis = 1)\n",
    "output_df.to_csv(\"../data/top050_test_1000.csv\", index = False)\n",
    "print(\"Files saved successfully\")"
   ]
  },
  {
   "cell_type": "markdown",
   "id": "0e571978",
   "metadata": {},
   "source": [
    "## Rationale Extractor"
   ]
  },
  {
   "cell_type": "code",
   "execution_count": 11,
   "id": "3040edda",
   "metadata": {},
   "outputs": [
    {
     "name": "stdout",
     "output_type": "stream",
     "text": [
      "Location: 0\n",
      "Location: 50\n",
      "Files saved successfully\n"
     ]
    }
   ],
   "source": [
    "extractor = BertTopKExtractor(model_bert, tokenizer, 50)\n",
    "#The feature representations produced by BERT from the rationales\n",
    "#Extract from the test\n",
    "output = []\n",
    "for i in range(0, 60):\n",
    "    if i % 50 == 0:\n",
    "        print(f\"Location: {i}\")\n",
    "    train_ids = extractor.extract(test.iloc[i].review)\n",
    "    output.append(extractor.input_ids_to_text(train_ids))\n",
    "\n",
    "#DFs containing the rationales\n",
    "rationale_df = pd.DataFrame(output)\n",
    "#Add the sentiment\n",
    "rationale_df = pd.concat([rationale_df, test.iloc[:60]['sentiment']],\n",
    "                          axis = 1)\n",
    "rationale_df.to_csv(\"../data/text_rationales/top050_test_0060.csv\", index = False)\n",
    "print(\"Files saved successfully\")"
   ]
  },
  {
   "cell_type": "markdown",
   "id": "2925f921",
   "metadata": {},
   "source": [
    "# Vanilla BERT Extractor"
   ]
  },
  {
   "cell_type": "code",
   "execution_count": 96,
   "id": "bd0ee4c3",
   "metadata": {},
   "outputs": [
    {
     "name": "stdout",
     "output_type": "stream",
     "text": [
      "Location: 0\n",
      "Files saved successfully\n"
     ]
    }
   ],
   "source": [
    "#The feature representations produced by BERT from the entire input\n",
    "output = []\n",
    "#Extract the 1000 test features\n",
    "for i in range(0, 5):\n",
    "    if i % 50 == 0:\n",
    "        print(f\"Location: {i}\")\n",
    "    query = test.iloc[i].review\n",
    "    encoding = tokenizer(query, \n",
    "                            return_tensors = 'pt',\n",
    "                            max_length = 512,\n",
    "                            truncation = 'longest_first',\n",
    "                            )\n",
    "    with torch.no_grad():\n",
    "        output.append(model_bert(encoding['input_ids']).pooler_output)\n",
    "#DFs containing the 768 extracted features\n",
    "train_feat_df = pd.DataFrame(torch.cat(output, dim=0))\n",
    "#Add the sentiment\n",
    "train_feat_df = pd.concat([train_feat_df, test['sentiment']],\n",
    "                          axis = 1)\n",
    "train_feat_df.to_csv(\"../data/foobar.csv\", index = False)\n",
    "print(\"Files saved successfully\")"
   ]
  }
 ],
 "metadata": {
  "kernelspec": {
   "display_name": "Python (STATS232)",
   "language": "python",
   "name": "stats232"
  },
  "language_info": {
   "codemirror_mode": {
    "name": "ipython",
    "version": 3
   },
   "file_extension": ".py",
   "mimetype": "text/x-python",
   "name": "python",
   "nbconvert_exporter": "python",
   "pygments_lexer": "ipython3",
   "version": "3.11.5"
  }
 },
 "nbformat": 4,
 "nbformat_minor": 5
}
