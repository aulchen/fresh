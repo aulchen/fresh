{
 "cells": [
  {
   "cell_type": "code",
   "execution_count": 64,
   "id": "33b4a2f6",
   "metadata": {},
   "outputs": [],
   "source": [
    "import pandas as pd\n",
    "import numpy as np\n",
    "from transformers import BertTokenizer\n",
    "import torch\n",
    "\n",
    "from BertExtractors import *"
   ]
  },
  {
   "cell_type": "code",
   "execution_count": 65,
   "id": "ce7007da",
   "metadata": {},
   "outputs": [],
   "source": [
    "test = pd.read_csv(\"../data/test.csv\")\n",
    "predictions = pd.read_csv(\"../results/predictions.csv\")\n",
    "predictions = predictions.rename(columns = {'Unnamed: 0': 'index'})\n",
    "predictions = predictions.set_index('index')"
   ]
  },
  {
   "cell_type": "code",
   "execution_count": 67,
   "id": "19e9e774",
   "metadata": {},
   "outputs": [
    {
     "data": {
      "text/html": [
       "<div>\n",
       "<style scoped>\n",
       "    .dataframe tbody tr th:only-of-type {\n",
       "        vertical-align: middle;\n",
       "    }\n",
       "\n",
       "    .dataframe tbody tr th {\n",
       "        vertical-align: top;\n",
       "    }\n",
       "\n",
       "    .dataframe thead th {\n",
       "        text-align: right;\n",
       "    }\n",
       "</style>\n",
       "<table border=\"1\" class=\"dataframe\">\n",
       "  <thead>\n",
       "    <tr style=\"text-align: right;\">\n",
       "      <th></th>\n",
       "      <th>TRUE</th>\n",
       "      <th>vanilla_pred</th>\n",
       "      <th>cont150</th>\n",
       "      <th>top150</th>\n",
       "      <th>cont50</th>\n",
       "      <th>top50</th>\n",
       "      <th>pretrain</th>\n",
       "    </tr>\n",
       "    <tr>\n",
       "      <th>index</th>\n",
       "      <th></th>\n",
       "      <th></th>\n",
       "      <th></th>\n",
       "      <th></th>\n",
       "      <th></th>\n",
       "      <th></th>\n",
       "      <th></th>\n",
       "    </tr>\n",
       "  </thead>\n",
       "  <tbody>\n",
       "    <tr>\n",
       "      <th>25000</th>\n",
       "      <td>0</td>\n",
       "      <td>0</td>\n",
       "      <td>0</td>\n",
       "      <td>0</td>\n",
       "      <td>1</td>\n",
       "      <td>0</td>\n",
       "      <td>0</td>\n",
       "    </tr>\n",
       "    <tr>\n",
       "      <th>25001</th>\n",
       "      <td>0</td>\n",
       "      <td>0</td>\n",
       "      <td>0</td>\n",
       "      <td>1</td>\n",
       "      <td>0</td>\n",
       "      <td>0</td>\n",
       "      <td>0</td>\n",
       "    </tr>\n",
       "    <tr>\n",
       "      <th>25002</th>\n",
       "      <td>1</td>\n",
       "      <td>1</td>\n",
       "      <td>1</td>\n",
       "      <td>1</td>\n",
       "      <td>1</td>\n",
       "      <td>1</td>\n",
       "      <td>1</td>\n",
       "    </tr>\n",
       "    <tr>\n",
       "      <th>25003</th>\n",
       "      <td>1</td>\n",
       "      <td>0</td>\n",
       "      <td>1</td>\n",
       "      <td>1</td>\n",
       "      <td>1</td>\n",
       "      <td>1</td>\n",
       "      <td>1</td>\n",
       "    </tr>\n",
       "    <tr>\n",
       "      <th>25004</th>\n",
       "      <td>0</td>\n",
       "      <td>0</td>\n",
       "      <td>1</td>\n",
       "      <td>0</td>\n",
       "      <td>0</td>\n",
       "      <td>0</td>\n",
       "      <td>0</td>\n",
       "    </tr>\n",
       "    <tr>\n",
       "      <th>...</th>\n",
       "      <td>...</td>\n",
       "      <td>...</td>\n",
       "      <td>...</td>\n",
       "      <td>...</td>\n",
       "      <td>...</td>\n",
       "      <td>...</td>\n",
       "      <td>...</td>\n",
       "    </tr>\n",
       "    <tr>\n",
       "      <th>25995</th>\n",
       "      <td>1</td>\n",
       "      <td>1</td>\n",
       "      <td>1</td>\n",
       "      <td>1</td>\n",
       "      <td>1</td>\n",
       "      <td>0</td>\n",
       "      <td>1</td>\n",
       "    </tr>\n",
       "    <tr>\n",
       "      <th>25996</th>\n",
       "      <td>1</td>\n",
       "      <td>1</td>\n",
       "      <td>1</td>\n",
       "      <td>1</td>\n",
       "      <td>1</td>\n",
       "      <td>1</td>\n",
       "      <td>1</td>\n",
       "    </tr>\n",
       "    <tr>\n",
       "      <th>25997</th>\n",
       "      <td>0</td>\n",
       "      <td>0</td>\n",
       "      <td>1</td>\n",
       "      <td>1</td>\n",
       "      <td>1</td>\n",
       "      <td>1</td>\n",
       "      <td>1</td>\n",
       "    </tr>\n",
       "    <tr>\n",
       "      <th>25998</th>\n",
       "      <td>0</td>\n",
       "      <td>0</td>\n",
       "      <td>0</td>\n",
       "      <td>1</td>\n",
       "      <td>0</td>\n",
       "      <td>1</td>\n",
       "      <td>0</td>\n",
       "    </tr>\n",
       "    <tr>\n",
       "      <th>25999</th>\n",
       "      <td>1</td>\n",
       "      <td>1</td>\n",
       "      <td>1</td>\n",
       "      <td>1</td>\n",
       "      <td>1</td>\n",
       "      <td>0</td>\n",
       "      <td>1</td>\n",
       "    </tr>\n",
       "  </tbody>\n",
       "</table>\n",
       "<p>1000 rows × 7 columns</p>\n",
       "</div>"
      ],
      "text/plain": [
       "       TRUE  vanilla_pred  cont150  top150  cont50  top50  pretrain\n",
       "index                                                              \n",
       "25000     0             0        0       0       1      0         0\n",
       "25001     0             0        0       1       0      0         0\n",
       "25002     1             1        1       1       1      1         1\n",
       "25003     1             0        1       1       1      1         1\n",
       "25004     0             0        1       0       0      0         0\n",
       "...     ...           ...      ...     ...     ...    ...       ...\n",
       "25995     1             1        1       1       1      0         1\n",
       "25996     1             1        1       1       1      1         1\n",
       "25997     0             0        1       1       1      1         1\n",
       "25998     0             0        0       1       0      1         0\n",
       "25999     1             1        1       1       1      0         1\n",
       "\n",
       "[1000 rows x 7 columns]"
      ]
     },
     "execution_count": 67,
     "metadata": {},
     "output_type": "execute_result"
    }
   ],
   "source": [
    "predictions"
   ]
  },
  {
   "cell_type": "code",
   "execution_count": 71,
   "id": "9a22b68c",
   "metadata": {},
   "outputs": [],
   "source": [
    "correct150 = pd.DataFrame({'vanilla_pred': (predictions.TRUE == predictions.vanilla_pred),\n",
    "                          'cont': (predictions.TRUE == predictions.cont150),\n",
    "                          'top': (predictions.TRUE == predictions.top150)})\n",
    "correct150.to_csv(\"../results/correct150.csv\")\n",
    "correct050 = pd.DataFrame({'vanilla_pred': (predictions.TRUE == predictions.vanilla_pred),\n",
    "                          'cont': (predictions.TRUE == predictions.cont50),\n",
    "                          'top': (predictions.TRUE == predictions.top50)})\n",
    "correct050.to_csv(\"../results/correct050.csv\")"
   ]
  },
  {
   "cell_type": "code",
   "execution_count": 74,
   "id": "90683276",
   "metadata": {},
   "outputs": [],
   "source": [
    "pretrain_correct050 = pd.DataFrame({'pretrain': (predictions.TRUE == predictions.pretrain),\n",
    "                          'cont': (predictions.TRUE == predictions.cont50),\n",
    "                          'top': (predictions.TRUE == predictions.top50)})\n",
    "pretrain_correct050.to_csv(\"../results/pretrain_correct050.csv\")"
   ]
  },
  {
   "cell_type": "code",
   "execution_count": 38,
   "id": "dd1ddd6c",
   "metadata": {},
   "outputs": [],
   "source": [
    "#Analyze the predictions - how many were all right?\n",
    "def analyze_pred(vanilla, cont, top):\n",
    "    print(\"None correct:\")\n",
    "    print(sum((vanilla == 0) & (cont == 0) & (top == 0)))\n",
    "    print(\"Only vanilla correct:\")\n",
    "    print(sum((vanilla == 1) & (cont == 0) & (top == 0)))\n",
    "    print(\"Only top correct:\")\n",
    "    print(sum((vanilla == 0) & (cont == 0) & (top == 1)))\n",
    "    print(\"Only cont correct:\")\n",
    "    print(sum((vanilla == 0) & (cont == 1) & (top == 0)))\n",
    "    print(\"Vanilla and cont correct:\")\n",
    "    print(sum((vanilla == 1) & (cont == 1) & (top == 0)))\n",
    "    print(\"Vanilla and top correct:\")\n",
    "    print(sum((vanilla == 1) & (cont == 0) & (top == 1)))\n",
    "    print(\"Cont and top correct:\")\n",
    "    print(sum((vanilla == 0) & (cont == 1) & (top == 1)))\n",
    "    print(\"All correct:\")\n",
    "    print(sum((vanilla == 1) & (cont == 1) & (top == 1)))"
   ]
  },
  {
   "cell_type": "markdown",
   "id": "543fe184",
   "metadata": {},
   "source": [
    "Vanilla BERT, k=150"
   ]
  },
  {
   "cell_type": "code",
   "execution_count": 39,
   "id": "bbbf677d",
   "metadata": {
    "scrolled": true
   },
   "outputs": [
    {
     "name": "stdout",
     "output_type": "stream",
     "text": [
      "None correct:\n",
      "67\n",
      "Only vanilla correct:\n",
      "44\n",
      "Only top correct:\n",
      "41\n",
      "Only cont correct:\n",
      "44\n",
      "Vanilla and cont correct:\n",
      "97\n",
      "Vanilla and top correct:\n",
      "89\n",
      "Cont and top correct:\n",
      "68\n",
      "All correct:\n",
      "550\n"
     ]
    }
   ],
   "source": [
    "analyze_pred(correct150.vanilla_pred, correct150.cont, correct150.top)"
   ]
  },
  {
   "cell_type": "markdown",
   "id": "2a5aa09b",
   "metadata": {},
   "source": [
    "Vanilla BERT, k=50"
   ]
  },
  {
   "cell_type": "code",
   "execution_count": 46,
   "id": "eb542581",
   "metadata": {
    "scrolled": true
   },
   "outputs": [
    {
     "name": "stdout",
     "output_type": "stream",
     "text": [
      "None correct:\n",
      "48\n",
      "Only vanilla correct:\n",
      "84\n",
      "Only top correct:\n",
      "51\n",
      "Only cont correct:\n",
      "62\n",
      "Vanilla and cont correct:\n",
      "146\n",
      "Vanilla and top correct:\n",
      "140\n",
      "Cont and top correct:\n",
      "59\n",
      "All correct:\n",
      "410\n"
     ]
    }
   ],
   "source": [
    "analyze_pred(correct050.vanilla_pred, correct050.cont, correct050.top)"
   ]
  },
  {
   "cell_type": "markdown",
   "id": "004df5ff",
   "metadata": {},
   "source": [
    "Pretrained BERT, k=50"
   ]
  },
  {
   "cell_type": "code",
   "execution_count": 75,
   "id": "460165f4",
   "metadata": {},
   "outputs": [
    {
     "name": "stdout",
     "output_type": "stream",
     "text": [
      "None correct:\n",
      "12\n",
      "Only vanilla correct:\n",
      "120\n",
      "Only top correct:\n",
      "12\n",
      "Only cont correct:\n",
      "11\n",
      "Vanilla and cont correct:\n",
      "197\n",
      "Vanilla and top correct:\n",
      "179\n",
      "Cont and top correct:\n",
      "14\n",
      "All correct:\n",
      "455\n"
     ]
    }
   ],
   "source": [
    "analyze_pred(pretrain_correct050.pretrain, pretrain_correct050.cont, pretrain_correct050.top)"
   ]
  },
  {
   "cell_type": "markdown",
   "id": "329757a4",
   "metadata": {},
   "source": [
    "## Explanation of All Correct: 25001"
   ]
  },
  {
   "cell_type": "code",
   "execution_count": 59,
   "id": "b2eaa8c6",
   "metadata": {},
   "outputs": [
    {
     "name": "stdout",
     "output_type": "stream",
     "text": [
      "Location: 0\n",
      "Files saved successfully\n"
     ]
    }
   ],
   "source": [
    "extractor = BertTopKExtractor(model_bert, tokenizer, 50)\n",
    "#The feature representations produced by BERT from the rationales\n",
    "#Extract from the test\n",
    "output = []\n",
    "for i in range(0, 5):\n",
    "    if i % 50 == 0:\n",
    "        print(f\"Location: {i}\")\n",
    "    ids = extractor.extract(test.iloc[i].review)\n",
    "    output.append(extractor.input_ids_to_text(ids))\n",
    "\n",
    "#DFs containing the rationales\n",
    "rationale_df = pd.DataFrame(output)\n",
    "#Add the sentiment\n",
    "rationale_df = pd.concat([rationale_df, test.iloc[:5]['sentiment']],\n",
    "                          axis = 1, ignore_index = True)\n",
    "rationale_df.to_csv(\"../data/text_rationales/top050_test_0005.csv\", index = False)\n",
    "print(\"Files saved successfully\")"
   ]
  }
 ],
 "metadata": {
  "kernelspec": {
   "display_name": "Python (STATS232)",
   "language": "python",
   "name": "stats232"
  },
  "language_info": {
   "codemirror_mode": {
    "name": "ipython",
    "version": 3
   },
   "file_extension": ".py",
   "mimetype": "text/x-python",
   "name": "python",
   "nbconvert_exporter": "python",
   "pygments_lexer": "ipython3",
   "version": "3.11.5"
  }
 },
 "nbformat": 4,
 "nbformat_minor": 5
}
